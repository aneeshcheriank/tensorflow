{
  "nbformat": 4,
  "nbformat_minor": 0,
  "metadata": {
    "colab": {
      "name": "Custom layes.ipynb",
      "provenance": [],
      "authorship_tag": "ABX9TyNaw/13ZiFLpcATiU27lvp0",
      "include_colab_link": true
    },
    "kernelspec": {
      "name": "python3",
      "display_name": "Python 3"
    },
    "language_info": {
      "name": "python"
    }
  },
  "cells": [
    {
      "cell_type": "markdown",
      "metadata": {
        "id": "view-in-github",
        "colab_type": "text"
      },
      "source": [
        "<a href=\"https://colab.research.google.com/github/aneeshcheriank/tensorflow/blob/main/Custom_layes.ipynb\" target=\"_parent\"><img src=\"https://colab.research.google.com/assets/colab-badge.svg\" alt=\"Open In Colab\"/></a>"
      ]
    },
    {
      "cell_type": "markdown",
      "source": [
        "# Custom Lambda Layer\n",
        "\n",
        "## Lambda Layer\n",
        "- basic functionality\n",
        "- 2 type\n",
        "  - lambda function\n",
        "  - custom function in lambda layer\n",
        "\n",
        "- custom functionality inside a sequential of functional APIs"
      ],
      "metadata": {
        "id": "B8RZ6f0D5LX9"
      }
    },
    {
      "cell_type": "code",
      "execution_count": 1,
      "metadata": {
        "id": "EOapHR3t4uY3",
        "colab": {
          "base_uri": "https://localhost:8080/"
        },
        "outputId": "e8cf34c9-2849-4602-8b45-dd5fd32fe17b"
      },
      "outputs": [
        {
          "output_type": "execute_result",
          "data": {
            "text/plain": [
              "<keras.layers.core.lambda_layer.Lambda at 0x7f5d13aacc10>"
            ]
          },
          "metadata": {},
          "execution_count": 1
        }
      ],
      "source": [
        "import tensorflow as tf\n",
        "from tensorflow import keras\n",
        "\n",
        "# Lambda layers\n",
        "keras.layers.Lambda(lambda x: tf.abs(x))"
      ]
    },
    {
      "cell_type": "markdown",
      "source": [
        "## Using Lambda layer in code"
      ],
      "metadata": {
        "id": "FmyijhG16SE4"
      }
    },
    {
      "cell_type": "code",
      "source": [
        "model = keras.Sequential([\n",
        "     keras.layers.Flatten(input_shape=(28, 28)),\n",
        "     keras.layers.Dense(128, activation='relu'),\n",
        "     keras.layers.Dense(10, activation='softmax')                              \n",
        "])\n",
        "\n",
        "# some simple code\n",
        "model = keras.Sequential([\n",
        "     keras.layers.Flatten(input_shape=(28, 28)),\n",
        "     keras.layers.Dense(128),\n",
        "     keras.layers.Lambda(lambda x: tf.abs(x)),\n",
        "     keras.layers.Dense(10, activation='softmax')                              \n",
        "])"
      ],
      "metadata": {
        "id": "7gqYvCOa6I4u"
      },
      "execution_count": 3,
      "outputs": []
    },
    {
      "cell_type": "code",
      "source": [
        "# custom Relu on Lambda layer\n",
        "from tensorflow import keras\n",
        "import tensorflow.keras.backend as K\n",
        "\n",
        "def my_relu(x):\n",
        "  return K.maximum(0.0, x) #specified a threshold for relu\n",
        "\n",
        "model = keras.Sequential([\n",
        "     keras.layers.Flatten(input_shape=(28, 28)),\n",
        "     keras.layers.Dense(128),\n",
        "     keras.layers.Lambda(my_relu), # called the function in the lambda layer\n",
        "     keras.layers.Dense(10, activation='softmax')                              \n",
        "])"
      ],
      "metadata": {
        "id": "YRV_JUhueVl5"
      },
      "execution_count": 2,
      "outputs": []
    },
    {
      "cell_type": "markdown",
      "source": [
        "# Implementing Custom Layers"
      ],
      "metadata": {
        "id": "K69bSahD5PlX"
      }
    },
    {
      "cell_type": "code",
      "source": [
        ""
      ],
      "metadata": {
        "id": "t-f4dFZH5T-j"
      },
      "execution_count": null,
      "outputs": []
    },
    {
      "cell_type": "markdown",
      "source": [
        "# Activating Custom Layers"
      ],
      "metadata": {
        "id": "BpqNiT0N5VCz"
      }
    },
    {
      "cell_type": "code",
      "source": [
        ""
      ],
      "metadata": {
        "id": "LcokgpJr5a26"
      },
      "execution_count": null,
      "outputs": []
    }
  ]
}