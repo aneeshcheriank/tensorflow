{
  "nbformat": 4,
  "nbformat_minor": 0,
  "metadata": {
    "colab": {
      "name": "Stacking and Branching.ipynb",
      "provenance": [],
      "authorship_tag": "ABX9TyPhETPL2H7g26rox57W3Vpv",
      "include_colab_link": true
    },
    "kernelspec": {
      "name": "python3",
      "display_name": "Python 3"
    },
    "language_info": {
      "name": "python"
    }
  },
  "cells": [
    {
      "cell_type": "markdown",
      "metadata": {
        "id": "view-in-github",
        "colab_type": "text"
      },
      "source": [
        "<a href=\"https://colab.research.google.com/github/aneeshcheriank/tensorflow/blob/main/Stacking_and_Branching.ipynb\" target=\"_parent\"><img src=\"https://colab.research.google.com/assets/colab-badge.svg\" alt=\"Open In Colab\"/></a>"
      ]
    },
    {
      "cell_type": "markdown",
      "source": [
        "# Multi-Output Model"
      ],
      "metadata": {
        "id": "-SRSbzLOlBY4"
      }
    },
    {
      "cell_type": "markdown",
      "source": [
        "## Download the Data"
      ],
      "metadata": {
        "id": "-X35N1wrsLKe"
      }
    },
    {
      "cell_type": "code",
      "source": [
        "! wget https://archive.ics.uci.edu/ml/machine-learning-databases/00242/ENB2012_data.xlsx"
      ],
      "metadata": {
        "colab": {
          "base_uri": "https://localhost:8080/"
        },
        "id": "F1Rk_Mq4Zouh",
        "outputId": "15d7285e-8b8c-4564-b3c7-a433c9e2a48d"
      },
      "execution_count": 10,
      "outputs": [
        {
          "output_type": "stream",
          "name": "stdout",
          "text": [
            "--2021-12-12 07:47:40--  https://archive.ics.uci.edu/ml/machine-learning-databases/00242/ENB2012_data.xlsx\n",
            "Resolving archive.ics.uci.edu (archive.ics.uci.edu)... 128.195.10.252\n",
            "Connecting to archive.ics.uci.edu (archive.ics.uci.edu)|128.195.10.252|:443... connected.\n",
            "HTTP request sent, awaiting response... 200 OK\n",
            "Length: 76189 (74K) [application/x-httpd-php]\n",
            "Saving to: ‘ENB2012_data.xlsx’\n",
            "\n",
            "ENB2012_data.xlsx   100%[===================>]  74.40K  --.-KB/s    in 0.06s   \n",
            "\n",
            "2021-12-12 07:47:41 (1.23 MB/s) - ‘ENB2012_data.xlsx’ saved [76189/76189]\n",
            "\n"
          ]
        }
      ]
    },
    {
      "cell_type": "markdown",
      "source": [
        "## Preprocess the Data"
      ],
      "metadata": {
        "id": "YCtEm1fjsR9l"
      }
    },
    {
      "cell_type": "code",
      "source": [
        "import pandas as pd\n",
        "from sklearn.model_selection import train_test_split\n",
        "from sklearn.preprocessing import StandardScaler\n",
        "\n",
        "data = pd.read_excel(\n",
        "    'ENB2012_data.xlsx'\n",
        ")\n",
        "\n",
        "train, test = train_test_split(\n",
        "    data, test_size=0.25,\n",
        "    shuffle=True, random_state = 42\n",
        ")\n",
        "\n",
        "x_train = train.drop(['Y1', 'Y2'], axis=1).values\n",
        "x_test = test.drop(['Y1', 'Y2'], axis=1).values\n",
        "y_train = train[['Y1', 'Y2']].values\n",
        "y_test = test[['Y1', 'Y2']].values\n",
        "\n",
        "ss = StandardScaler()\n",
        "x_train = ss.fit_transform(x_train)\n",
        "x_test = ss.transform(x_test)"
      ],
      "metadata": {
        "id": "o6SUH0XLkhxs"
      },
      "execution_count": 27,
      "outputs": []
    },
    {
      "cell_type": "markdown",
      "source": [
        "## Model Architecutre"
      ],
      "metadata": {
        "id": "6DMTfpTGs2XX"
      }
    },
    {
      "cell_type": "code",
      "source": [
        "from tensorflow import keras\n",
        "from tensorflow.keras.layers import Input, Dense, Concatenate\n",
        "from tensorflow.keras import Model\n",
        "import pandas as pd\n",
        "\n",
        "input_layer = Input(shape=(x_train.shape[1], ))\n",
        "first_dense = Dense(128, activation='relu')(input_layer)\n",
        "second_dense = Dense(128, activation='relu')(first_dense)\n",
        "\n",
        "y1_output = Dense(units=1, name='y1_output')(second_dense)\n",
        "third_dense = Dense(units=64, activation='relu')(second_dense)\n",
        "y2_output = Dense(units=1, name='y2_output')(third_dense)\n",
        "\n",
        "model = Model(\n",
        "    inputs = input_layer,\n",
        "    outputs = [y1_output, y2_output]\n",
        ")\n",
        "\n",
        "model.compile(\n",
        "    loss = {'y1_output': 'mse', 'y2_output': 'mse'},\n",
        "    optimizer = 'Adam',\n",
        "    metrics = {\n",
        "        'y1_output': keras.metrics.RootMeanSquaredError(),\n",
        "        'y2_output': keras.metrics.RootMeanSquaredError()\n",
        "    }\n",
        ")"
      ],
      "metadata": {
        "id": "oa57JrgPYPFr"
      },
      "execution_count": 32,
      "outputs": []
    },
    {
      "cell_type": "code",
      "source": [
        "history = model.fit(\n",
        "    x_train, y_train,\n",
        "    epochs = 10,\n",
        "    batch_size = 512,\n",
        "    validation_split = 0.25\n",
        ")"
      ],
      "metadata": {
        "colab": {
          "base_uri": "https://localhost:8080/"
        },
        "id": "sm-XTb7gnf5k",
        "outputId": "ad51ee5f-f228-4b9a-ed89-6e506fdf32b3"
      },
      "execution_count": 33,
      "outputs": [
        {
          "output_type": "stream",
          "name": "stdout",
          "text": [
            "Epoch 1/10\n",
            "1/1 [==============================] - 1s 1s/step - loss: 1315.7472 - y1_output_loss: 654.7296 - y2_output_loss: 661.0177 - y1_output_root_mean_squared_error: 25.5877 - y2_output_root_mean_squared_error: 25.7103 - val_loss: 1163.0869 - val_y1_output_loss: 576.7974 - val_y2_output_loss: 586.2895 - val_y1_output_root_mean_squared_error: 24.0166 - val_y2_output_root_mean_squared_error: 24.2134\n",
            "Epoch 2/10\n",
            "1/1 [==============================] - 0s 47ms/step - loss: 1304.7618 - y1_output_loss: 648.5637 - y2_output_loss: 656.1982 - y1_output_root_mean_squared_error: 25.4669 - y2_output_root_mean_squared_error: 25.6164 - val_loss: 1153.0924 - val_y1_output_loss: 571.0928 - val_y2_output_loss: 581.9996 - val_y1_output_root_mean_squared_error: 23.8975 - val_y2_output_root_mean_squared_error: 24.1247\n",
            "Epoch 3/10\n",
            "1/1 [==============================] - 0s 36ms/step - loss: 1294.1602 - y1_output_loss: 642.4900 - y2_output_loss: 651.6702 - y1_output_root_mean_squared_error: 25.3474 - y2_output_root_mean_squared_error: 25.5278 - val_loss: 1143.3612 - val_y1_output_loss: 565.4532 - val_y2_output_loss: 577.9080 - val_y1_output_root_mean_squared_error: 23.7793 - val_y2_output_root_mean_squared_error: 24.0397\n",
            "Epoch 4/10\n",
            "1/1 [==============================] - 0s 38ms/step - loss: 1283.8768 - y1_output_loss: 636.4705 - y2_output_loss: 647.4064 - y1_output_root_mean_squared_error: 25.2284 - y2_output_root_mean_squared_error: 25.4442 - val_loss: 1133.8099 - val_y1_output_loss: 559.8322 - val_y2_output_loss: 573.9778 - val_y1_output_root_mean_squared_error: 23.6608 - val_y2_output_root_mean_squared_error: 23.9578\n",
            "Epoch 5/10\n",
            "1/1 [==============================] - 0s 36ms/step - loss: 1273.8445 - y1_output_loss: 630.4679 - y2_output_loss: 643.3766 - y1_output_root_mean_squared_error: 25.1091 - y2_output_root_mean_squared_error: 25.3649 - val_loss: 1124.3868 - val_y1_output_loss: 554.2220 - val_y2_output_loss: 570.1648 - val_y1_output_root_mean_squared_error: 23.5419 - val_y2_output_root_mean_squared_error: 23.8781\n",
            "Epoch 6/10\n",
            "1/1 [==============================] - 0s 46ms/step - loss: 1263.9559 - y1_output_loss: 624.4394 - y2_output_loss: 639.5165 - y1_output_root_mean_squared_error: 24.9888 - y2_output_root_mean_squared_error: 25.2887 - val_loss: 1115.0786 - val_y1_output_loss: 548.5485 - val_y2_output_loss: 566.5302 - val_y1_output_root_mean_squared_error: 23.4211 - val_y2_output_root_mean_squared_error: 23.8019\n",
            "Epoch 7/10\n",
            "1/1 [==============================] - 0s 41ms/step - loss: 1254.1108 - y1_output_loss: 618.3524 - y2_output_loss: 635.7584 - y1_output_root_mean_squared_error: 24.8667 - y2_output_root_mean_squared_error: 25.2142 - val_loss: 1105.7488 - val_y1_output_loss: 542.7902 - val_y2_output_loss: 562.9586 - val_y1_output_root_mean_squared_error: 23.2979 - val_y2_output_root_mean_squared_error: 23.7267\n",
            "Epoch 8/10\n",
            "1/1 [==============================] - 0s 37ms/step - loss: 1244.1802 - y1_output_loss: 612.1826 - y2_output_loss: 631.9977 - y1_output_root_mean_squared_error: 24.7423 - y2_output_root_mean_squared_error: 25.1396 - val_loss: 1096.1697 - val_y1_output_loss: 536.9026 - val_y2_output_loss: 559.2670 - val_y1_output_root_mean_squared_error: 23.1712 - val_y2_output_root_mean_squared_error: 23.6488\n",
            "Epoch 9/10\n",
            "1/1 [==============================] - 0s 36ms/step - loss: 1234.0049 - y1_output_loss: 605.8967 - y2_output_loss: 628.1082 - y1_output_root_mean_squared_error: 24.6150 - y2_output_root_mean_squared_error: 25.0621 - val_loss: 1086.2289 - val_y1_output_loss: 530.8704 - val_y2_output_loss: 555.3585 - val_y1_output_root_mean_squared_error: 23.0406 - val_y2_output_root_mean_squared_error: 23.5660\n",
            "Epoch 10/10\n",
            "1/1 [==============================] - 0s 42ms/step - loss: 1223.4585 - y1_output_loss: 599.4741 - y2_output_loss: 623.9845 - y1_output_root_mean_squared_error: 24.4842 - y2_output_root_mean_squared_error: 24.9797 - val_loss: 1075.8105 - val_y1_output_loss: 524.6754 - val_y2_output_loss: 551.1352 - val_y1_output_root_mean_squared_error: 22.9058 - val_y2_output_root_mean_squared_error: 23.4763\n"
          ]
        }
      ]
    },
    {
      "cell_type": "code",
      "source": [
        "y_train"
      ],
      "metadata": {
        "colab": {
          "base_uri": "https://localhost:8080/"
        },
        "id": "TE3YlSpxpIdy",
        "outputId": "dbb71ae1-0081-4359-a128-dc5ac2941bba"
      },
      "execution_count": 28,
      "outputs": [
        {
          "output_type": "execute_result",
          "data": {
            "text/plain": [
              "array([[36.28, 37.35],\n",
              "       [10.43, 13.71],\n",
              "       [38.57, 43.86],\n",
              "       ...,\n",
              "       [10.67, 14.26],\n",
              "       [28.62, 30.12],\n",
              "       [28.83, 29.36]])"
            ]
          },
          "metadata": {},
          "execution_count": 28
        }
      ]
    },
    {
      "cell_type": "code",
      "source": [
        ""
      ],
      "metadata": {
        "id": "Nka5SldrteDj"
      },
      "execution_count": null,
      "outputs": []
    }
  ]
}