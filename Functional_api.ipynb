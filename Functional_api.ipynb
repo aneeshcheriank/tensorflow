{
  "nbformat": 4,
  "nbformat_minor": 0,
  "metadata": {
    "colab": {
      "name": "Functional api.ipynb",
      "provenance": [],
      "authorship_tag": "ABX9TyNJLkYP2+5ewGqHYW0y03wW",
      "include_colab_link": true
    },
    "kernelspec": {
      "name": "python3",
      "display_name": "Python 3"
    },
    "language_info": {
      "name": "python"
    }
  },
  "cells": [
    {
      "cell_type": "markdown",
      "metadata": {
        "id": "view-in-github",
        "colab_type": "text"
      },
      "source": [
        "<a href=\"https://colab.research.google.com/github/aneeshcheriank/tensorflow/blob/main/Functional_api.ipynb\" target=\"_parent\"><img src=\"https://colab.research.google.com/assets/colab-badge.svg\" alt=\"Open In Colab\"/></a>"
      ]
    },
    {
      "cell_type": "markdown",
      "source": [
        "# Functional API\n",
        "\n",
        "- 3 steps\n",
        "  - define input\n",
        "  - define layer\n",
        "  - create model"
      ],
      "metadata": {
        "id": "2ALE_Vfs_U7K"
      }
    },
    {
      "cell_type": "code",
      "execution_count": 13,
      "metadata": {
        "id": "hUufziDc-9BV"
      },
      "outputs": [],
      "source": [
        "from tensorflow.keras.layers import Input, Flatten, Dense\n",
        "from tensorflow.keras.datasets import mnist\n",
        "from tensorflow import keras\n",
        "import numpy as np\n",
        "import pandas as pd\n",
        "\n",
        "import matplotlib.pyplot as plt\n",
        "%matplotlib inline"
      ]
    },
    {
      "cell_type": "code",
      "source": [
        "# impot data\n",
        "(x_train, y_train), (x_test, y_test) = mnist.load_data()\n",
        "\n",
        "\n",
        "# add 3rd dim to image\n",
        "# normalize the pixcel values\n",
        "def preprocess_image(img):\n",
        "  img = np.expand_dims(img, axis=3)\n",
        "  img = img/255.\n",
        "\n",
        "  return img\n",
        "\n",
        "\n",
        "x_train = preprocess_image(x_train)\n",
        "x_test = preprocess_image(x_test)\n",
        "\n",
        "# model\n",
        "def model_1():\n",
        "  input = Input(shape=(28, 28, 1))\n",
        "  flatten = Flatten()(input)\n",
        "  layer1 = Dense(128, activation='relu')(flatten)\n",
        "  layer2 = Dense(10, activation='softmax')(layer1)\n",
        "\n",
        "  model = keras.Model(\n",
        "      inputs = input,\n",
        "      outputs = layer2\n",
        "  )\n",
        "\n",
        "  model.compile(\n",
        "      loss = 'sparse_categorical_crossentropy',\n",
        "      optimizer = 'adam',\n",
        "      metrics=['acc']\n",
        "  )\n",
        "\n",
        "  return model\n",
        "\n",
        "model = model_1()\n",
        "\n",
        "history = model.fit(\n",
        "    x_train, y_train,\n",
        "    epochs = 10,\n",
        "    batch_size = 1024,\n",
        "    validation_split=0.25\n",
        ")"
      ],
      "metadata": {
        "colab": {
          "base_uri": "https://localhost:8080/"
        },
        "id": "5SLYR9Z5_ng9",
        "outputId": "ff8bef03-52ed-41a4-9b8f-5e7749919b51"
      },
      "execution_count": 11,
      "outputs": [
        {
          "output_type": "stream",
          "name": "stdout",
          "text": [
            "Epoch 1/10\n",
            "44/44 [==============================] - 1s 18ms/step - loss: 0.9447 - acc: 0.7546 - val_loss: 0.4001 - val_acc: 0.8897\n",
            "Epoch 2/10\n",
            "44/44 [==============================] - 1s 15ms/step - loss: 0.3522 - acc: 0.9031 - val_loss: 0.2998 - val_acc: 0.9167\n",
            "Epoch 3/10\n",
            "44/44 [==============================] - 1s 15ms/step - loss: 0.2835 - acc: 0.9215 - val_loss: 0.2626 - val_acc: 0.9269\n",
            "Epoch 4/10\n",
            "44/44 [==============================] - 1s 15ms/step - loss: 0.2486 - acc: 0.9304 - val_loss: 0.2358 - val_acc: 0.9351\n",
            "Epoch 5/10\n",
            "44/44 [==============================] - 1s 15ms/step - loss: 0.2193 - acc: 0.9392 - val_loss: 0.2161 - val_acc: 0.9389\n",
            "Epoch 6/10\n",
            "44/44 [==============================] - 1s 15ms/step - loss: 0.1972 - acc: 0.9445 - val_loss: 0.1990 - val_acc: 0.9436\n",
            "Epoch 7/10\n",
            "44/44 [==============================] - 1s 15ms/step - loss: 0.1792 - acc: 0.9492 - val_loss: 0.1891 - val_acc: 0.9475\n",
            "Epoch 8/10\n",
            "44/44 [==============================] - 1s 15ms/step - loss: 0.1636 - acc: 0.9538 - val_loss: 0.1751 - val_acc: 0.9513\n",
            "Epoch 9/10\n",
            "44/44 [==============================] - 1s 15ms/step - loss: 0.1507 - acc: 0.9578 - val_loss: 0.1691 - val_acc: 0.9523\n",
            "Epoch 10/10\n",
            "44/44 [==============================] - 1s 15ms/step - loss: 0.1380 - acc: 0.9615 - val_loss: 0.1607 - val_acc: 0.9550\n"
          ]
        }
      ]
    },
    {
      "cell_type": "code",
      "source": [
        "plt.figure(figsize=(6, 4))\n",
        "pd.DataFrame(\n",
        "    history.history\n",
        ").plot();\n",
        "plt.grid(True)\n",
        "plt.figure()"
      ],
      "metadata": {
        "colab": {
          "base_uri": "https://localhost:8080/",
          "height": 320
        },
        "id": "pxG5rRmkFAfN",
        "outputId": "2a06c53a-4188-45ae-f860-915d08c3d65b"
      },
      "execution_count": 16,
      "outputs": [
        {
          "output_type": "execute_result",
          "data": {
            "text/plain": [
              "<Figure size 432x288 with 0 Axes>"
            ]
          },
          "metadata": {},
          "execution_count": 16
        },
        {
          "output_type": "display_data",
          "data": {
            "text/plain": [
              "<Figure size 432x288 with 0 Axes>"
            ]
          },
          "metadata": {}
        },
        {
          "output_type": "display_data",
          "data": {
            "image/png": "[encoded data removed]",
            "text/plain": [
              "<Figure size 432x288 with 1 Axes>"
            ]
          },
          "metadata": {
            "needs_background": "light"
          }
        },
        {
          "output_type": "display_data",
          "data": {
            "text/plain": [
              "<Figure size 432x288 with 0 Axes>"
            ]
          },
          "metadata": {}
        }
      ]
    },
    {
      "cell_type": "code",
      "source": [
        ""
      ],
      "metadata": {
        "id": "v5ZfsKKXHOba"
      },
      "execution_count": null,
      "outputs": []
    }
  ]
}